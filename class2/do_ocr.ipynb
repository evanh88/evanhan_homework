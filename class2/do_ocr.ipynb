{
 "cells": [
  {
   "cell_type": "code",
   "execution_count": 2,
   "id": "a3835689",
   "metadata": {},
   "outputs": [
    {
     "name": "stdout",
     "output_type": "stream",
     "text": [
      "OCR Result:\n",
      "\n",
      "Exceptions and Signals\n",
      "\n",
      "* There is need in a microprocessor system to detect and handle\n",
      "exceptional situations that may change the flow of the program\n",
      "control\n",
      "\n",
      "* Such situations can be caused by:\n",
      "* external hardware interrupts handled by ISR\n",
      "* error event exceptions (zero-divide, overflow, bus or address error,\n",
      "illegal instruction)\n",
      "* program event exceptions (trap or breakpoint instruction, signal\n",
      "generation)\n",
      "* Operating system implements selected ISR sending signals - the\n",
      "kernel calls siginit() routine at initialization\n",
      "\n",
      "\n"
     ]
    }
   ],
   "source": [
    "from PIL import Image\n",
    "import pytesseract #pip install pytesseract first\n",
    "\n",
    "# Load an image using Pillow (PIL)\n",
    "image = Image.open('Screenshot215722.png')\n",
    "\n",
    "# Perform OCR on the image\n",
    "text = pytesseract.image_to_string(image)\n",
    "\n",
    "print(\"OCR Result:\\n\")\n",
    "print(text)"
   ]
  }
 ],
 "metadata": {
  "kernelspec": {
   "display_name": "Python 3",
   "language": "python",
   "name": "python3"
  },
  "language_info": {
   "codemirror_mode": {
    "name": "ipython",
    "version": 3
   },
   "file_extension": ".py",
   "mimetype": "text/x-python",
   "name": "python",
   "nbconvert_exporter": "python",
   "pygments_lexer": "ipython3",
   "version": "3.13.5"
  }
 },
 "nbformat": 4,
 "nbformat_minor": 5
}
